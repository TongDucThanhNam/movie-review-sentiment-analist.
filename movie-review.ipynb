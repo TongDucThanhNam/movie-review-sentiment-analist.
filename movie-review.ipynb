{
 "cells": [
  {
   "cell_type": "markdown",
   "id": "c43537b3",
   "metadata": {
    "papermill": {
     "duration": 0.00805,
     "end_time": "2023-05-17T12:43:49.419079",
     "exception": false,
     "start_time": "2023-05-17T12:43:49.411029",
     "status": "completed"
    },
    "tags": []
   },
   "source": [
    "# Phân loại bình luận phim là tích cực hay tiêu cực"
   ]
  },
  {
   "cell_type": "markdown",
   "id": "acdb7566",
   "metadata": {
    "papermill": {
     "duration": 0.006603,
     "end_time": "2023-05-17T12:43:49.432775",
     "exception": false,
     "start_time": "2023-05-17T12:43:49.426172",
     "status": "completed"
    },
    "tags": []
   },
   "source": [
    "## Import các thư viện cần thiết"
   ]
  },
  {
   "cell_type": "markdown",
   "id": "71ff33e5",
   "metadata": {
    "papermill": {
     "duration": 0.006533,
     "end_time": "2023-05-17T12:43:49.446207",
     "exception": false,
     "start_time": "2023-05-17T12:43:49.439674",
     "status": "completed"
    },
    "tags": []
   },
   "source": [
    "- Tải thư viện (dùng lệnh !pip install tên_thư_viện)\n",
    "- dấu ! ở đầu dòng là lệnh của jupyter notebook -> chạy lệnh này trên terminal"
   ]
  },
  {
   "cell_type": "code",
   "execution_count": 1,
   "id": "70c286c0",
   "metadata": {
    "execution": {
     "iopub.execute_input": "2023-05-17T12:43:49.462309Z",
     "iopub.status.busy": "2023-05-17T12:43:49.461343Z",
     "iopub.status.idle": "2023-05-17T12:44:34.686280Z",
     "shell.execute_reply": "2023-05-17T12:44:34.685085Z"
    },
    "papermill": {
     "duration": 45.236416,
     "end_time": "2023-05-17T12:44:34.689387",
     "exception": false,
     "start_time": "2023-05-17T12:43:49.452971",
     "status": "completed"
    },
    "tags": []
   },
   "outputs": [
    {
     "name": "stdout",
     "output_type": "stream",
     "text": [
      "Requirement already satisfied: pandas in /opt/conda/lib/python3.7/site-packages (1.3.5)\r\n",
      "Requirement already satisfied: numpy>=1.17.3 in /opt/conda/lib/python3.7/site-packages (from pandas) (1.21.6)\r\n",
      "Requirement already satisfied: pytz>=2017.3 in /opt/conda/lib/python3.7/site-packages (from pandas) (2022.7.1)\r\n",
      "Requirement already satisfied: python-dateutil>=2.7.3 in /opt/conda/lib/python3.7/site-packages (from pandas) (2.8.2)\r\n",
      "Requirement already satisfied: six>=1.5 in /opt/conda/lib/python3.7/site-packages (from python-dateutil>=2.7.3->pandas) (1.16.0)\r\n",
      "\u001b[33mWARNING: Running pip as the 'root' user can result in broken permissions and conflicting behaviour with the system package manager. It is recommended to use a virtual environment instead: https://pip.pypa.io/warnings/venv\u001b[0m\u001b[33m\r\n",
      "\u001b[0mRequirement already satisfied: numpy in /opt/conda/lib/python3.7/site-packages (1.21.6)\r\n",
      "\u001b[33mWARNING: Running pip as the 'root' user can result in broken permissions and conflicting behaviour with the system package manager. It is recommended to use a virtual environment instead: https://pip.pypa.io/warnings/venv\u001b[0m\u001b[33m\r\n",
      "\u001b[0mCollecting sklearn\r\n",
      "  Downloading sklearn-0.0.post5.tar.gz (3.7 kB)\r\n",
      "  Preparing metadata (setup.py) ... \u001b[?25l-\b \bdone\r\n",
      "\u001b[?25hBuilding wheels for collected packages: sklearn\r\n",
      "  Building wheel for sklearn (setup.py) ... \u001b[?25l-\b \b\\\b \bdone\r\n",
      "\u001b[?25h  Created wheel for sklearn: filename=sklearn-0.0.post5-py3-none-any.whl size=2360 sha256=38795db8aba9a3834f41d1f11d2ec5b9c0e1cc584ed7a618f8070e572836b3b9\r\n",
      "  Stored in directory: /root/.cache/pip/wheels/b2/af/1b/ac28f3fb36a8428e3089acdd913e9ee1808e781e3ff6ce2929\r\n",
      "Successfully built sklearn\r\n",
      "Installing collected packages: sklearn\r\n",
      "Successfully installed sklearn-0.0.post5\r\n",
      "\u001b[33mWARNING: Running pip as the 'root' user can result in broken permissions and conflicting behaviour with the system package manager. It is recommended to use a virtual environment instead: https://pip.pypa.io/warnings/venv\u001b[0m\u001b[33m\r\n",
      "\u001b[0m"
     ]
    }
   ],
   "source": [
    "!pip install pandas\n",
    "!pip install numpy\n",
    "!pip install sklearn"
   ]
  },
  {
   "cell_type": "code",
   "execution_count": 2,
   "id": "bd870e3a",
   "metadata": {
    "collapsed": false,
    "execution": {
     "iopub.execute_input": "2023-05-17T12:44:34.708310Z",
     "iopub.status.busy": "2023-05-17T12:44:34.707866Z",
     "iopub.status.idle": "2023-05-17T12:44:35.797798Z",
     "shell.execute_reply": "2023-05-17T12:44:35.796216Z"
    },
    "jupyter": {
     "outputs_hidden": false
    },
    "papermill": {
     "duration": 1.103092,
     "end_time": "2023-05-17T12:44:35.800901",
     "exception": false,
     "start_time": "2023-05-17T12:44:34.697809",
     "status": "completed"
    },
    "tags": []
   },
   "outputs": [
    {
     "name": "stdout",
     "output_type": "stream",
     "text": [
      "__notebook__.ipynb\r\n"
     ]
    }
   ],
   "source": [
    "!dir\n",
    "# lệnh dir để xem các file trong thư mục hiện tại"
   ]
  },
  {
   "cell_type": "code",
   "execution_count": 3,
   "id": "1b9a1fdc",
   "metadata": {
    "execution": {
     "iopub.execute_input": "2023-05-17T12:44:35.820025Z",
     "iopub.status.busy": "2023-05-17T12:44:35.819552Z",
     "iopub.status.idle": "2023-05-17T12:44:35.839066Z",
     "shell.execute_reply": "2023-05-17T12:44:35.837756Z"
    },
    "papermill": {
     "duration": 0.032585,
     "end_time": "2023-05-17T12:44:35.841941",
     "exception": false,
     "start_time": "2023-05-17T12:44:35.809356",
     "status": "completed"
    },
    "tags": []
   },
   "outputs": [
    {
     "name": "stdout",
     "output_type": "stream",
     "text": [
      "/kaggle/input/mydatafiles123/IMDB Dataset.csv\n"
     ]
    }
   ],
   "source": [
    "# This Python 3 environment comes with many helpful analytics libraries installed\n",
    "# It is defined by the kaggle/python Docker image: https://github.com/kaggle/docker-python\n",
    "# For example, here's several helpful packages to load\n",
    "\n",
    "import numpy as np # linear algebra\n",
    "import pandas as pd # data processing, CSV file I/O (e.g. pd.read_csv)\n",
    "\n",
    "# Input data files are available in the read-only \"../input/\" directory\n",
    "# For example, running this (by clicking run or pressing Shift+Enter) will list all files under the input directory\n",
    "\n",
    "import os\n",
    "for dirname, _, filenames in os.walk('/kaggle/input'):\n",
    "    for filename in filenames:\n",
    "        print(os.path.join(dirname, filename))\n",
    "\n",
    "# You can write up to 20GB to the current directory (/kaggle/working/) that gets preserved as output when you create a version using \"Save & Run All\" \n",
    "# You can also write temporary files to /kaggle/temp/, but they won't be saved outside of the current session"
   ]
  },
  {
   "cell_type": "markdown",
   "id": "e10afc21",
   "metadata": {
    "papermill": {
     "duration": 0.008148,
     "end_time": "2023-05-17T12:44:35.858953",
     "exception": false,
     "start_time": "2023-05-17T12:44:35.850805",
     "status": "completed"
    },
    "tags": []
   },
   "source": [
    "## Đọc dữ liệu từ file csv và tiền xử lý"
   ]
  },
  {
   "cell_type": "code",
   "execution_count": 4,
   "id": "7b3a87d4",
   "metadata": {
    "collapsed": false,
    "execution": {
     "iopub.execute_input": "2023-05-17T12:44:35.878070Z",
     "iopub.status.busy": "2023-05-17T12:44:35.877637Z",
     "iopub.status.idle": "2023-05-17T12:44:37.682112Z",
     "shell.execute_reply": "2023-05-17T12:44:37.680704Z"
    },
    "jupyter": {
     "outputs_hidden": false
    },
    "papermill": {
     "duration": 1.817307,
     "end_time": "2023-05-17T12:44:37.684929",
     "exception": false,
     "start_time": "2023-05-17T12:44:35.867622",
     "status": "completed"
    },
    "tags": []
   },
   "outputs": [
    {
     "data": {
      "text/html": [
       "<div>\n",
       "<style scoped>\n",
       "    .dataframe tbody tr th:only-of-type {\n",
       "        vertical-align: middle;\n",
       "    }\n",
       "\n",
       "    .dataframe tbody tr th {\n",
       "        vertical-align: top;\n",
       "    }\n",
       "\n",
       "    .dataframe thead th {\n",
       "        text-align: right;\n",
       "    }\n",
       "</style>\n",
       "<table border=\"1\" class=\"dataframe\">\n",
       "  <thead>\n",
       "    <tr style=\"text-align: right;\">\n",
       "      <th></th>\n",
       "      <th>review</th>\n",
       "      <th>sentiment</th>\n",
       "    </tr>\n",
       "  </thead>\n",
       "  <tbody>\n",
       "    <tr>\n",
       "      <th>0</th>\n",
       "      <td>One of the other reviewers has mentioned that ...</td>\n",
       "      <td>positive</td>\n",
       "    </tr>\n",
       "    <tr>\n",
       "      <th>1</th>\n",
       "      <td>A wonderful little production. &lt;br /&gt;&lt;br /&gt;The...</td>\n",
       "      <td>positive</td>\n",
       "    </tr>\n",
       "    <tr>\n",
       "      <th>2</th>\n",
       "      <td>I thought this was a wonderful way to spend ti...</td>\n",
       "      <td>positive</td>\n",
       "    </tr>\n",
       "    <tr>\n",
       "      <th>3</th>\n",
       "      <td>Basically there's a family where a little boy ...</td>\n",
       "      <td>negative</td>\n",
       "    </tr>\n",
       "    <tr>\n",
       "      <th>4</th>\n",
       "      <td>Petter Mattei's \"Love in the Time of Money\" is...</td>\n",
       "      <td>positive</td>\n",
       "    </tr>\n",
       "  </tbody>\n",
       "</table>\n",
       "</div>"
      ],
      "text/plain": [
       "                                              review sentiment\n",
       "0  One of the other reviewers has mentioned that ...  positive\n",
       "1  A wonderful little production. <br /><br />The...  positive\n",
       "2  I thought this was a wonderful way to spend ti...  positive\n",
       "3  Basically there's a family where a little boy ...  negative\n",
       "4  Petter Mattei's \"Love in the Time of Money\" is...  positive"
      ]
     },
     "execution_count": 4,
     "metadata": {},
     "output_type": "execute_result"
    }
   ],
   "source": [
    "dataset = pd.read_csv(os.path.join(dirname, \"IMDB Dataset.csv\")).head(4000)\n",
    "# Cột review là nội dung review\n",
    "# Cột sentiment là nhãn của review (positive: tích cực, negative: tiêu cực, neutral: trung lập)\n",
    "\n",
    "# In ra 5 dòng đầu tiên của dataset\n",
    "dataset.head(5)"
   ]
  },
  {
   "cell_type": "code",
   "execution_count": 5,
   "id": "c75d9ca6",
   "metadata": {
    "collapsed": false,
    "execution": {
     "iopub.execute_input": "2023-05-17T12:44:37.704053Z",
     "iopub.status.busy": "2023-05-17T12:44:37.703606Z",
     "iopub.status.idle": "2023-05-17T12:44:37.726014Z",
     "shell.execute_reply": "2023-05-17T12:44:37.724960Z"
    },
    "jupyter": {
     "outputs_hidden": false
    },
    "papermill": {
     "duration": 0.035537,
     "end_time": "2023-05-17T12:44:37.729005",
     "exception": false,
     "start_time": "2023-05-17T12:44:37.693468",
     "status": "completed"
    },
    "tags": []
   },
   "outputs": [],
   "source": [
    "reviews = np.array(dataset['review'])  # lấy ra cột review -> chuyển về dạng numpy array\n",
    "sentiments = np.array(dataset['sentiment'])  # lấy ra cột sentiment -> chuyển về dạng numpy array\n",
    "\n",
    "\n",
    "# Xử lý dữ liệu (chuyển về chữ thường)\n",
    "def text_preprocessing(text):\n",
    "    # Xử lý dữ liệu:\n",
    "    # 1. Chuyển về chữ thường\n",
    "    text.lower()\n",
    "\n",
    "    # 2. Xóa các ký tự đặc biệt (Nếu cần) Xoá HTML tags, ...\n",
    "\n",
    "    return text\n",
    "\n",
    "\n",
    "X = []  # tập dữ liệu (các review)\n",
    "y = []  # tập nhãn\n",
    "\n",
    "for i in range(len(reviews)):\n",
    "    X.append(text_preprocessing(reviews[i]))  # thêm review đã xử lý vào tập dữ liệu\n",
    "    y.append(sentiments[i])  # thêm nhãn vào tập nhãn\n"
   ]
  },
  {
   "cell_type": "code",
   "execution_count": 6,
   "id": "f3b2babe",
   "metadata": {
    "collapsed": false,
    "execution": {
     "iopub.execute_input": "2023-05-17T12:44:37.748276Z",
     "iopub.status.busy": "2023-05-17T12:44:37.747867Z",
     "iopub.status.idle": "2023-05-17T12:44:37.753376Z",
     "shell.execute_reply": "2023-05-17T12:44:37.752499Z"
    },
    "jupyter": {
     "outputs_hidden": false
    },
    "papermill": {
     "duration": 0.01842,
     "end_time": "2023-05-17T12:44:37.756084",
     "exception": false,
     "start_time": "2023-05-17T12:44:37.737664",
     "status": "completed"
    },
    "tags": []
   },
   "outputs": [
    {
     "name": "stdout",
     "output_type": "stream",
     "text": [
      "Tập dữ liệu X[0]:  One of the other reviewers has mentioned that after watching just 1 Oz episode you'll be hooked. They are right, as this is exactly what happened with me.<br /><br />The first thing that struck me about Oz was its brutality and unflinching scenes of violence, which set in right from the word GO. Trust me, this is not a show for the faint hearted or timid. This show pulls no punches with regards to drugs, sex or violence. Its is hardcore, in the classic use of the word.<br /><br />It is called OZ as that is the nickname given to the Oswald Maximum Security State Penitentary. It focuses mainly on Emerald City, an experimental section of the prison where all the cells have glass fronts and face inwards, so privacy is not high on the agenda. Em City is home to many..Aryans, Muslims, gangstas, Latinos, Christians, Italians, Irish and more....so scuffles, death stares, dodgy dealings and shady agreements are never far away.<br /><br />I would say the main appeal of the show is due to the fact that it goes where other shows wouldn't dare. Forget pretty pictures painted for mainstream audiences, forget charm, forget romance...OZ doesn't mess around. The first episode I ever saw struck me as so nasty it was surreal, I couldn't say I was ready for it, but as I watched more, I developed a taste for Oz, and got accustomed to the high levels of graphic violence. Not just violence, but injustice (crooked guards who'll be sold out for a nickel, inmates who'll kill on order and get away with it, well mannered, middle class inmates being turned into prison bitches due to their lack of street skills or prison experience) Watching Oz, you may become comfortable with what is uncomfortable viewing....thats if you can get in touch with your darker side.\n",
      "Tập nhãn y[0]:  positive\n"
     ]
    }
   ],
   "source": [
    "print(\"Tập dữ liệu X[0]: \", X[0])\n",
    "print(\"Tập nhãn y[0]: \", y[0])"
   ]
  },
  {
   "cell_type": "markdown",
   "id": "6a3d8c25",
   "metadata": {
    "papermill": {
     "duration": 0.00853,
     "end_time": "2023-05-17T12:44:37.774620",
     "exception": false,
     "start_time": "2023-05-17T12:44:37.766090",
     "status": "completed"
    },
    "tags": []
   },
   "source": [
    "## Tạo các đặc trưng (feature) cho mô hình học máy"
   ]
  },
  {
   "cell_type": "code",
   "execution_count": 7,
   "id": "73075a1b",
   "metadata": {
    "execution": {
     "iopub.execute_input": "2023-05-17T12:44:37.794758Z",
     "iopub.status.busy": "2023-05-17T12:44:37.793563Z",
     "iopub.status.idle": "2023-05-17T12:44:42.270204Z",
     "shell.execute_reply": "2023-05-17T12:44:42.268551Z"
    },
    "papermill": {
     "duration": 4.489818,
     "end_time": "2023-05-17T12:44:42.273173",
     "exception": false,
     "start_time": "2023-05-17T12:44:37.783355",
     "status": "completed"
    },
    "tags": []
   },
   "outputs": [
    {
     "name": "stdout",
     "output_type": "stream",
     "text": [
      "Số lượng từ trong tập dữ liệu:  370410\n"
     ]
    }
   ],
   "source": [
    "from sklearn.feature_extraction.text import TfidfVectorizer\n",
    "\n",
    "# Tạo model TF-IDF\n",
    "tfidf_model = TfidfVectorizer(\n",
    "    stop_words='english',  # loại bỏ các stop words\n",
    "    use_idf=True,  # sử dụng TF-IDF\n",
    "    min_df=0.0,  # tần suất xuất hiện tối thiểu của từ trong tập dữ liệu\n",
    "    max_df=1.0,  # tần suất xuất hiện tối đa của từ trong tập dữ liệu\n",
    "    ngram_range=(1, 2),  # sử dụng n-gram\n",
    "    sublinear_tf=True  # sử dụng sublinear_tf\n",
    ")\n",
    "tfidf_feature_vector = tfidf_model.fit_transform(\n",
    "    X  # tập dữ liệu train,\n",
    ")  # fit model với tập train\n",
    "print(\"Số lượng từ trong tập dữ liệu: \", len(tfidf_model.vocabulary_))"
   ]
  },
  {
   "cell_type": "code",
   "execution_count": 8,
   "id": "fa61daf1",
   "metadata": {
    "execution": {
     "iopub.execute_input": "2023-05-17T12:44:42.293901Z",
     "iopub.status.busy": "2023-05-17T12:44:42.293454Z",
     "iopub.status.idle": "2023-05-17T12:44:42.300954Z",
     "shell.execute_reply": "2023-05-17T12:44:42.299779Z"
    },
    "papermill": {
     "duration": 0.021257,
     "end_time": "2023-05-17T12:44:42.303552",
     "exception": false,
     "start_time": "2023-05-17T12:44:42.282295",
     "status": "completed"
    },
    "tags": []
   },
   "outputs": [],
   "source": [
    "# Tập nhãn phải là số nguyên (0, 1, 2, ...) nên cần chuyển về dạng số nguyên để huấn luyện mô hình học máy\n",
    "from sklearn.preprocessing import LabelEncoder\n",
    "\n",
    "le = LabelEncoder()\n",
    "y_lable_encoding = le.fit_transform(y)"
   ]
  },
  {
   "cell_type": "code",
   "execution_count": 9,
   "id": "0d332926",
   "metadata": {
    "execution": {
     "iopub.execute_input": "2023-05-17T12:44:42.324249Z",
     "iopub.status.busy": "2023-05-17T12:44:42.323834Z",
     "iopub.status.idle": "2023-05-17T12:44:53.246353Z",
     "shell.execute_reply": "2023-05-17T12:44:53.245124Z"
    },
    "papermill": {
     "duration": 10.936655,
     "end_time": "2023-05-17T12:44:53.249530",
     "exception": false,
     "start_time": "2023-05-17T12:44:42.312875",
     "status": "completed"
    },
    "tags": []
   },
   "outputs": [],
   "source": [
    "# Chia tập dữ liệu thành tập train và tập test\n",
    "from sklearn.model_selection import train_test_split\n",
    "\n",
    "train_reviews, test_reviews, train_sentiments, test_sentiments = train_test_split(\n",
    "    tfidf_feature_vector.toarray(), # tập dữ liệu\n",
    "    y_lable_encoding, # tập nhãn\n",
    "    test_size=0.2, # tỉ lệ dữ liệu test\n",
    "    random_state=21 # seed\n",
    ")"
   ]
  },
  {
   "cell_type": "markdown",
   "id": "76fb2d11",
   "metadata": {
    "papermill": {
     "duration": 0.008476,
     "end_time": "2023-05-17T12:44:53.266850",
     "exception": false,
     "start_time": "2023-05-17T12:44:53.258374",
     "status": "completed"
    },
    "tags": []
   },
   "source": []
  },
  {
   "cell_type": "markdown",
   "id": "0496e9f4",
   "metadata": {
    "papermill": {
     "duration": 0.008298,
     "end_time": "2023-05-17T12:44:53.283980",
     "exception": false,
     "start_time": "2023-05-17T12:44:53.275682",
     "status": "completed"
    },
    "tags": []
   },
   "source": [
    "## Model Training, Prediction and Performance Evaluation"
   ]
  },
  {
   "cell_type": "code",
   "execution_count": 10,
   "id": "2916c362",
   "metadata": {
    "collapsed": false,
    "execution": {
     "iopub.execute_input": "2023-05-17T12:44:53.303445Z",
     "iopub.status.busy": "2023-05-17T12:44:53.302959Z",
     "iopub.status.idle": "2023-05-17T12:45:12.076024Z",
     "shell.execute_reply": "2023-05-17T12:45:12.074645Z"
    },
    "jupyter": {
     "outputs_hidden": false
    },
    "papermill": {
     "duration": 18.786188,
     "end_time": "2023-05-17T12:45:12.079174",
     "exception": false,
     "start_time": "2023-05-17T12:44:53.292986",
     "status": "completed"
    },
    "pycharm": {
     "is_executing": true
    },
    "tags": []
   },
   "outputs": [
    {
     "data": {
      "text/plain": [
       "GaussianNB()"
      ]
     },
     "execution_count": 10,
     "metadata": {},
     "output_type": "execute_result"
    }
   ],
   "source": [
    "from sklearn.naive_bayes import GaussianNB\n",
    "nb = GaussianNB() # Tạo model Naive Bayes\n",
    "nb.fit(train_reviews, train_sentiments) # Huấn luyện mô hình với tập train"
   ]
  },
  {
   "cell_type": "code",
   "execution_count": 11,
   "id": "704849b9",
   "metadata": {
    "collapsed": false,
    "execution": {
     "iopub.execute_input": "2023-05-17T12:45:12.100007Z",
     "iopub.status.busy": "2023-05-17T12:45:12.099530Z",
     "iopub.status.idle": "2023-05-17T12:45:16.471751Z",
     "shell.execute_reply": "2023-05-17T12:45:16.470227Z"
    },
    "jupyter": {
     "outputs_hidden": false
    },
    "papermill": {
     "duration": 4.386353,
     "end_time": "2023-05-17T12:45:16.474819",
     "exception": false,
     "start_time": "2023-05-17T12:45:12.088466",
     "status": "completed"
    },
    "pycharm": {
     "is_executing": true
    },
    "tags": []
   },
   "outputs": [
    {
     "name": "stdout",
     "output_type": "stream",
     "text": [
      "              precision    recall  f1-score   support\n",
      "\n",
      "           0       0.68      0.71      0.70       398\n",
      "           1       0.70      0.66      0.68       402\n",
      "\n",
      "    accuracy                           0.69       800\n",
      "   macro avg       0.69      0.69      0.69       800\n",
      "weighted avg       0.69      0.69      0.69       800\n",
      "\n"
     ]
    }
   ],
   "source": [
    "from sklearn.metrics import classification_report\n",
    "# Dự đoán nhãn của từ tập test\n",
    "test_sentiments_pred = nb.predict(test_reviews)\n",
    "\n",
    "# Đánh giá mô hình so sánh với dự đoán và nhãn đúng\n",
    "print(classification_report(test_sentiments, test_sentiments_pred))"
   ]
  },
  {
   "cell_type": "code",
   "execution_count": 12,
   "id": "9233296b",
   "metadata": {
    "collapsed": false,
    "execution": {
     "iopub.execute_input": "2023-05-17T12:45:16.495697Z",
     "iopub.status.busy": "2023-05-17T12:45:16.495257Z",
     "iopub.status.idle": "2023-05-17T12:45:16.519453Z",
     "shell.execute_reply": "2023-05-17T12:45:16.518253Z"
    },
    "jupyter": {
     "outputs_hidden": false
    },
    "papermill": {
     "duration": 0.038096,
     "end_time": "2023-05-17T12:45:16.522328",
     "exception": false,
     "start_time": "2023-05-17T12:45:16.484232",
     "status": "completed"
    },
    "pycharm": {
     "is_executing": true
    },
    "tags": []
   },
   "outputs": [
    {
     "name": "stdout",
     "output_type": "stream",
     "text": [
      "Bình luận tiêu cực\n"
     ]
    }
   ],
   "source": [
    "input = \"I hate this movie\" # Nhập vào đoạn review mà muốn phân loại là bình luận tích cực hay tiêu cực\n",
    "\n",
    "input = [text_preprocessing(input)] # Xử lý test, đưa vào list \n",
    "# Chuyển về dạng vector\n",
    "input_tfidf_feature_vector = tfidf_model.transform(input).toarray()\n",
    "\n",
    "# Dự đoán nhãn\n",
    "input_sentiments_pred = nb.predict(input_tfidf_feature_vector)\n",
    "\n",
    "if input_sentiments_pred == 1:\n",
    "    print(\"Review tích cực\") # Dự đoán nhãn là tích cực \n",
    "else: \n",
    "    print(\"Bình luận tiêu cực\") # Dự đoán nhãn là tiêu cực"
   ]
  }
 ],
 "metadata": {
  "kernelspec": {
   "display_name": "Python 3",
   "language": "python",
   "name": "python3"
  },
  "language_info": {
   "codemirror_mode": {
    "name": "ipython",
    "version": 3
   },
   "file_extension": ".py",
   "mimetype": "text/x-python",
   "name": "python",
   "nbconvert_exporter": "python",
   "pygments_lexer": "ipython3",
   "version": "3.7.12"
  },
  "papermill": {
   "default_parameters": {},
   "duration": 101.0844,
   "end_time": "2023-05-17T12:45:17.356079",
   "environment_variables": {},
   "exception": null,
   "input_path": "__notebook__.ipynb",
   "output_path": "__notebook__.ipynb",
   "parameters": {},
   "start_time": "2023-05-17T12:43:36.271679",
   "version": "2.4.0"
  }
 },
 "nbformat": 4,
 "nbformat_minor": 5
}
